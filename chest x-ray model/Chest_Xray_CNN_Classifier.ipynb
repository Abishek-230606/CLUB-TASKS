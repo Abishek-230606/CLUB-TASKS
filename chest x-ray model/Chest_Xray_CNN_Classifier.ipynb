{
 "cells": [
  {
   "cell_type": "markdown",
   "id": "2c2ba2f0",
   "metadata": {},
   "source": [
    "1. Importing Required Libraries:\n",
    "\n",
    "We start by importing the essential Python libraries for image processing, model building, training, and evaluation. These libraries include TensorFlow/Keras for deep learning, NumPy for numerical operations, Matplotlib for plotting, and scikit-learn for evaluation metrics."
   ]
  },
  {
   "cell_type": "code",
   "execution_count": 2,
   "id": "42345953",
   "metadata": {},
   "outputs": [],
   "source": [
    "import os\n",
    "import numpy as np\n",
    "import matplotlib.pyplot as plt\n",
    "from sklearn.metrics import classification_report, confusion_matrix\n",
    "\n",
    "import tensorflow as tf\n",
    "from tensorflow.keras.models import Sequential\n",
    "from tensorflow.keras.layers import Conv2D, MaxPooling2D, Flatten, Dense, Dropout\n",
    "from tensorflow.keras.preprocessing.image import ImageDataGenerator"
   ]
  },
  {
   "cell_type": "markdown",
   "id": "4437d95b",
   "metadata": {},
   "source": [
    "2. Setting Up Dataset Paths and Parameters:\n",
    "\n",
    "We specify the paths to our dataset folders and set the image size and batch size. The dataset is organized into training, validation, and test folders. Each of these contains three subfolders: Normal, Tuberculosis, and Pneumonia."
   ]
  },
  {
   "cell_type": "code",
   "execution_count": 3,
   "id": "8dd59bdd",
   "metadata": {},
   "outputs": [],
   "source": [
    "train_dir = \"dataset/train\"\n",
    "val_dir   = \"dataset/val\"\n",
    "test_dir  = \"dataset/test\"\n",
    "\n",
    "IMG_SIZE = (224, 224)\n",
    "BATCH_SIZE = 32"
   ]
  },
  {
   "cell_type": "markdown",
   "id": "7031b519",
   "metadata": {},
   "source": [
    "3. Creating Image Data Generators:\n",
    "\n",
    "We use ImageDataGenerator to preprocess the images. For training data, we apply augmentation techniques such as rotation and zoom to improve generalization. For validation and test data, we only rescale pixel values."
   ]
  },
  {
   "cell_type": "code",
   "execution_count": 5,
   "id": "a55e7975",
   "metadata": {},
   "outputs": [],
   "source": [
    "train_datagen = ImageDataGenerator(\n",
    "    rescale=1./255,\n",
    "    rotation_range=15,\n",
    "    width_shift_range=0.1,\n",
    "    height_shift_range=0.1,\n",
    "    shear_range=0.1,\n",
    "    zoom_range=0.1,\n",
    "    horizontal_flip=True\n",
    ")\n",
    "\n",
    "val_test_datagen = ImageDataGenerator(rescale=1./255)"
   ]
  },
  {
   "cell_type": "markdown",
   "id": "13874af8",
   "metadata": {},
   "source": [
    " 4. Loading the Datases:\n",
    "\n",
    " We load the images from the folders with the data generators. We resize the images to 224x224 and group them by class labels. We set shuffle=False for the test set to ensure consistent evaluation."
   ]
  },
  {
   "cell_type": "code",
   "execution_count": 6,
   "id": "9bd76586",
   "metadata": {},
   "outputs": [
    {
     "name": "stdout",
     "output_type": "stream",
     "text": [
      "Found 8224 images belonging to 3 classes.\n",
      "Found 3024 images belonging to 3 classes.\n",
      "Found 3632 images belonging to 3 classes.\n"
     ]
    }
   ],
   "source": [
    "train_gen = train_datagen.flow_from_directory(\n",
    "    train_dir,\n",
    "    target_size=IMG_SIZE,\n",
    "    batch_size=BATCH_SIZE,\n",
    "    class_mode=\"categorical\"\n",
    ")\n",
    "\n",
    "val_gen = val_test_datagen.flow_from_directory(\n",
    "    val_dir,\n",
    "    target_size=IMG_SIZE,\n",
    "    batch_size=BATCH_SIZE,\n",
    "    class_mode=\"categorical\"\n",
    ")\n",
    "\n",
    "test_gen = val_test_datagen.flow_from_directory(\n",
    "    test_dir,\n",
    "    target_size=IMG_SIZE,\n",
    "    batch_size=BATCH_SIZE,\n",
    "    class_mode=\"categorical\",\n",
    "    shuffle=False\n",
    ")"
   ]
  },
  {
   "cell_type": "markdown",
   "id": "450bf55b",
   "metadata": {},
   "source": [
    "5. Building the CNN Model:[IMPORTANT AND CRUTIAL STEP]\n",
    "\n",
    "We build a Convolutional Neural Network (CNN) using Keras. The model consists of three convolutional layers that \n",
    "extract features. \n",
    "These are followed by dense layers for classification.\n",
    "The final layer uses softmax activation to provide probabilities for three classes."
   ]
  },
  {
   "cell_type": "code",
   "execution_count": 7,
   "id": "136d08ff",
   "metadata": {},
   "outputs": [
    {
     "name": "stderr",
     "output_type": "stream",
     "text": [
      "C:\\Users\\jsabi\\AppData\\Roaming\\Python\\Python313\\site-packages\\keras\\src\\layers\\convolutional\\base_conv.py:113: UserWarning: Do not pass an `input_shape`/`input_dim` argument to a layer. When using Sequential models, prefer using an `Input(shape)` object as the first layer in the model instead.\n",
      "  super().__init__(activity_regularizer=activity_regularizer, **kwargs)\n"
     ]
    }
   ],
   "source": [
    "model = Sequential([\n",
    "    Conv2D(32, (3, 3), activation='relu', input_shape=(224, 224, 3)),\n",
    "    MaxPooling2D(pool_size=(2, 2)),\n",
    "\n",
    "    Conv2D(64, (3, 3), activation='relu'),\n",
    "    MaxPooling2D(pool_size=(2, 2)),\n",
    "\n",
    "    Conv2D(128, (3, 3), activation='relu'),\n",
    "    MaxPooling2D(pool_size=(2, 2)),\n",
    "\n",
    "    Flatten(),\n",
    "    Dense(128, activation='relu'),\n",
    "    Dropout(0.5),\n",
    "    Dense(3, activation='softmax')  # 3 classes: Normal, TB, Pneumonia\n",
    "])"
   ]
  },
  {
   "cell_type": "markdown",
   "id": "1ba69be7",
   "metadata": {},
   "source": [
    "6. Compiling the ModeL:[HELPS IN MODEL TRAINING AND OUTPUT]\n",
    "\n",
    "We build the model with the Adam optimizer and categorical cross-entropy loss. This setup works well for multi-class classification. We also monitor accuracy as a performance metric."
   ]
  },
  {
   "cell_type": "code",
   "execution_count": 8,
   "id": "daaf0b5a",
   "metadata": {},
   "outputs": [],
   "source": [
    "model.compile(\n",
    "    optimizer='adam',\n",
    "    loss='categorical_crossentropy',\n",
    "    metrics=['accuracy']\n",
    ")"
   ]
  },
  {
   "cell_type": "markdown",
   "id": "1d3156a8",
   "metadata": {},
   "source": [
    "7. Training the ModeL:\n",
    "\n",
    "We train the model with the training data and check it using the validation set. We train for 10 epochs to see how learning progresses."
   ]
  },
  {
   "cell_type": "code",
   "execution_count": 10,
   "id": "af8aa6ff",
   "metadata": {},
   "outputs": [
    {
     "name": "stdout",
     "output_type": "stream",
     "text": [
      "Epoch 1/10\n",
      "\u001b[1m257/257\u001b[0m \u001b[32m━━━━━━━━━━━━━━━━━━━━\u001b[0m\u001b[37m\u001b[0m \u001b[1m216s\u001b[0m 839ms/step - accuracy: 0.8586 - loss: 0.3511 - val_accuracy: 0.9322 - val_loss: 0.1661\n",
      "Epoch 2/10\n",
      "\u001b[1m257/257\u001b[0m \u001b[32m━━━━━━━━━━━━━━━━━━━━\u001b[0m\u001b[37m\u001b[0m \u001b[1m182s\u001b[0m 710ms/step - accuracy: 0.8936 - loss: 0.2845 - val_accuracy: 0.9841 - val_loss: 0.0706\n",
      "Epoch 3/10\n",
      "\u001b[1m257/257\u001b[0m \u001b[32m━━━━━━━━━━━━━━━━━━━━\u001b[0m\u001b[37m\u001b[0m \u001b[1m182s\u001b[0m 710ms/step - accuracy: 0.9042 - loss: 0.2458 - val_accuracy: 0.9778 - val_loss: 0.0770\n",
      "Epoch 4/10\n",
      "\u001b[1m257/257\u001b[0m \u001b[32m━━━━━━━━━━━━━━━━━━━━\u001b[0m\u001b[37m\u001b[0m \u001b[1m163s\u001b[0m 633ms/step - accuracy: 0.9245 - loss: 0.2101 - val_accuracy: 0.9818 - val_loss: 0.0705\n",
      "Epoch 5/10\n",
      "\u001b[1m257/257\u001b[0m \u001b[32m━━━━━━━━━━━━━━━━━━━━\u001b[0m\u001b[37m\u001b[0m \u001b[1m171s\u001b[0m 665ms/step - accuracy: 0.9256 - loss: 0.2053 - val_accuracy: 0.9828 - val_loss: 0.0601\n",
      "Epoch 6/10\n",
      "\u001b[1m257/257\u001b[0m \u001b[32m━━━━━━━━━━━━━━━━━━━━\u001b[0m\u001b[37m\u001b[0m \u001b[1m160s\u001b[0m 621ms/step - accuracy: 0.9345 - loss: 0.1847 - val_accuracy: 0.9894 - val_loss: 0.0336\n",
      "Epoch 7/10\n",
      "\u001b[1m257/257\u001b[0m \u001b[32m━━━━━━━━━━━━━━━━━━━━\u001b[0m\u001b[37m\u001b[0m \u001b[1m166s\u001b[0m 644ms/step - accuracy: 0.9392 - loss: 0.1652 - val_accuracy: 0.9858 - val_loss: 0.0425\n",
      "Epoch 8/10\n",
      "\u001b[1m257/257\u001b[0m \u001b[32m━━━━━━━━━━━━━━━━━━━━\u001b[0m\u001b[37m\u001b[0m \u001b[1m157s\u001b[0m 610ms/step - accuracy: 0.9429 - loss: 0.1585 - val_accuracy: 0.9792 - val_loss: 0.0612\n",
      "Epoch 9/10\n",
      "\u001b[1m257/257\u001b[0m \u001b[32m━━━━━━━━━━━━━━━━━━━━\u001b[0m\u001b[37m\u001b[0m \u001b[1m152s\u001b[0m 589ms/step - accuracy: 0.9477 - loss: 0.1449 - val_accuracy: 0.9891 - val_loss: 0.0378\n",
      "Epoch 10/10\n",
      "\u001b[1m257/257\u001b[0m \u001b[32m━━━━━━━━━━━━━━━━━━━━\u001b[0m\u001b[37m\u001b[0m \u001b[1m145s\u001b[0m 563ms/step - accuracy: 0.9544 - loss: 0.1294 - val_accuracy: 0.9924 - val_loss: 0.0242\n"
     ]
    }
   ],
   "source": [
    "history = model.fit(train_gen, epochs=10, validation_data=val_gen)"
   ]
  },
  {
   "cell_type": "markdown",
   "id": "d0494cb8",
   "metadata": {},
   "source": [
    "8. Evaluating the Model  \n",
    "  \n",
    "We check the model on the validation set to see how well it performs. We also make predictions on the test set and compare these predictions with the actual labels using a confusion matrix and a classification report."
   ]
  },
  {
   "cell_type": "code",
   "execution_count": null,
   "id": "229f9792",
   "metadata": {},
   "outputs": [
    {
     "name": "stdout",
     "output_type": "stream",
     "text": [
      "\u001b[1m95/95\u001b[0m \u001b[32m━━━━━━━━━━━━━━━━━━━━\u001b[0m\u001b[37m\u001b[0m \u001b[1m7s\u001b[0m 77ms/step - accuracy: 0.9924 - loss: 0.0242\n",
      "Validation Accuracy: 0.99\n",
      "\u001b[1m114/114\u001b[0m \u001b[32m━━━━━━━━━━━━━━━━━━━━\u001b[0m\u001b[37m\u001b[0m \u001b[1m37s\u001b[0m 319ms/step\n",
      "Confusion Matrix:\n",
      "[[ 676   61   11]\n",
      " [  18  371    1]\n",
      " [   9    6 2479]]\n",
      "\n",
      "Classification Report:\n",
      "              precision    recall  f1-score   support\n",
      "\n",
      "      normal       0.96      0.90      0.93       748\n",
      "   pneumonia       0.85      0.95      0.90       390\n",
      "tubercluosis       1.00      0.99      0.99      2494\n",
      "\n",
      "    accuracy                           0.97      3632\n",
      "   macro avg       0.93      0.95      0.94      3632\n",
      "weighted avg       0.97      0.97      0.97      3632\n",
      "\n"
     ]
    }
   ],
   "source": [
    "    val_loss, val_acc = model.evaluate(val_gen)\n",
    "    print(f\"Validation Accuracy: {val_acc:.2f}\")\n",
    "\n",
    "    predictions = model.predict(test_gen)\n",
    "    y_pred = np.argmax(predictions, axis=1)\n",
    "    y_true = test_gen.classes\n",
    "\n",
    "    print(\"Confusion Matrix:\")\n",
    "    print(confusion_matrix(y_true, y_pred))\n",
    "\n",
    "    print(\"\\nClassification Report:\")\n",
    "    print(classification_report(y_true, y_pred, target_names=list(test_gen.class_indices.keys())))"
   ]
  },
  {
   "cell_type": "markdown",
   "id": "e52dcfdd",
   "metadata": {},
   "source": [
    "9. Visualizing Training Accuracy\n",
    "\n",
    "We plot the training and validation accuracy over epochs to show how well the model is learning"
   ]
  },
  {
   "cell_type": "code",
   "execution_count": 12,
   "id": "ccdf5877",
   "metadata": {},
   "outputs": [
    {
     "data": {
      "image/png": "[encoded data removed]",
      "text/plain": [
       "<Figure size 640x480 with 1 Axes>"
      ]
     },
     "metadata": {},
     "output_type": "display_data"
    }
   ],
   "source": [
    "plt.plot(history.history['accuracy'], label='Train Accuracy')\n",
    "plt.plot(history.history['val_accuracy'], label='Val Accuracy')\n",
    "plt.title('Model Accuracy')\n",
    "plt.xlabel('Epochs')\n",
    "plt.ylabel('Accuracy')\n",
    "plt.legend()\n",
    "plt.show()"
   ]
  },
  {
   "cell_type": "code",
   "execution_count": null,
   "id": "5d30f294-8a48-4520-9988-cf9d90927a0a",
   "metadata": {},
   "outputs": [],
   "source": []
  }
 ],
 "metadata": {
  "kernelspec": {
   "display_name": "base",
   "language": "python",
   "name": "python3"
  },
  "language_info": {
   "codemirror_mode": {
    "name": "ipython",
    "version": 3
   },
   "file_extension": ".py",
   "mimetype": "text/x-python",
   "name": "python",
   "nbconvert_exporter": "python",
   "pygments_lexer": "ipython3",
   "version": "3.13.5"
  }
 },
 "nbformat": 4,
 "nbformat_minor": 5
}
